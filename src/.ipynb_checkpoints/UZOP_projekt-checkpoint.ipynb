{
 "cells": [
  {
   "cell_type": "markdown",
   "id": "employed-conservative",
   "metadata": {},
   "source": [
    "# UZOP - Metabolism-associated molecular clasification of hepatocellular carcinoma\n",
    "\n",
    "Na ovom projektu cilj je napraviti klasifikator koji na temelju metaboličkih gena klasificira rak jetre.\n",
    "\n",
    "\n",
    "Poveznica na članak:\n",
    "https://febs.onlinelibrary.wiley.com/doi/full/10.1002/1878-0261.12639\n",
    "\n",
    "Poveznica na upute pri izradi projekta:\n",
    "https://docs.google.com/document/d/1G4L84lbYJ67w2aEUd7nmwxjcNVHjLAubFMcRRYsNY6w/edit\n"
   ]
  },
  {
   "cell_type": "markdown",
   "id": "complex-estate",
   "metadata": {},
   "source": [
    "## 1) Priprema podataka\n",
    "Cilj je raditi analizu nad metaboličkim genima.\n",
    "Njega je moguće dohvatiti na sljedećoj poveznici.\n",
    "https://static-content.springer.com/esm/art%3A10.1038%2Fnature10350/MediaObjects/41586_2011_BFnature10350_MOESM321_ESM.xls\n",
    "\n",
    "\n",
    "Korišteni podatci su TCGA i ICGC. U članku se koristi i GEO skup podataka, ali je u uputama navedeno da se on može koristiti na kraju za validaciju **ako ostane vremena**."
   ]
  },
  {
   "cell_type": "code",
   "execution_count": 7,
   "id": "greenhouse-stanford",
   "metadata": {},
   "outputs": [],
   "source": [
    "import os\n",
    "import gzip\n",
    "\n",
    "from scipy import stats\n",
    "import matplotlib.pyplot as plt\n",
    "import pandas\n",
    "import pandas as pd\n",
    "import numpy as np\n",
    "from collections import defaultdict\n",
    "from scipy.stats import median_abs_deviation\n",
    "import json\n",
    "import sksurv\n",
    "from combat.pycombat import pycombat\n",
    "from sklearn.cluster import KMeans, AgglomerativeClustering\n",
    "from sklearn.decomposition import PCA\n",
    "from sklearn.svm import SVC\n"
   ]
  },
  {
   "cell_type": "code",
   "execution_count": 2,
   "id": "existing-reverse",
   "metadata": {},
   "outputs": [],
   "source": [
    "METABOLIC_FILE = \"../res/41586_2011_BFnature10350_MOESM321_ESM.xls\"\n",
    "def load_metabolic_genes(path: str) -> set:\n",
    "    return set(pd.read_excel(\n",
    "        path, sheet_name=\"All metabolic genes\"\n",
    "    )[\"Gene Symbol\"])\n",
    "mg = load_metabolic_genes(METABOLIC_FILE)"
   ]
  },
  {
   "cell_type": "markdown",
   "id": "reserved-investigator",
   "metadata": {},
   "source": [
    "Za gene postoje anotacije koje sadrže informacije o njihovoj duljini i kojem je identifikacijskom kodu (npr. \"ENSG00000176022.4\") pridružen koji simbol (npr. \"B3GALT6\"). Može postojati nekoliko gena s istim simbolom, ali različitim duljinama i identifikacijskim kodovima. Takvi su zanemareni radi jednoznačnosti: kod onih skupova podataka koji sadrže samo simbole nije jasno na koji gen se to odnosi, tj. koju duljinu treba uzeti za normalizaciju."
   ]
  },
  {
   "cell_type": "code",
   "execution_count": 3,
   "id": "analyzed-theme",
   "metadata": {},
   "outputs": [],
   "source": [
    "ANNOTATIONS_FILE = \"../res/gencode.v22.annotation.gtf.gz\"\n",
    "def load_ann(path: str, keep_symbols: set, filtering: bool = True) -> tuple:\n",
    "    id_name_map = {}\n",
    "    # id_len_map = {}\n",
    "    name_len_map = defaultdict(list)\n",
    "    name_id_map = defaultdict(list)\n",
    "    with gzip.open(path, 'r') as inf:\n",
    "        for line in inf:\n",
    "            split_line = line.strip().split(b\"\\t\")\n",
    "            if len(split_line) < 9:\n",
    "                continue\n",
    "            if split_line[2] == b\"gene\":\n",
    "                gene_info = split_line[8].strip(b\";\").split(b\"; \")\n",
    "                # assert gene_info[3].startswith(b\"gene_name \\\"\")\n",
    "                gene_name = str(gene_info[3][11:len(gene_info[3]) - 1], \"ascii\")\n",
    "                if not filtering or gene_name in keep_symbols:\n",
    "                    gene_id = str(gene_info[0][9:len(gene_info[0]) - 1], \"ascii\")\n",
    "                    gene_len = int(split_line[4]) - int(split_line[3])\n",
    "                    name_len_map[gene_name].append(gene_len)\n",
    "                    name_id_map[gene_name].append(gene_id)\n",
    "                    id_name_map[gene_id] = gene_name\n",
    "                    # id_len_map[gene_id] = gene_len\n",
    "\n",
    "    # Ne zelimo duplikate\n",
    "    # dropping_names = filter(lambda x: any(it != name_len_map[x][0] for it in name_len_map[x]), name_len_map)\n",
    "    dropping_names = filter(lambda x: len(name_len_map[x]) > 1, name_len_map)\n",
    "\n",
    "    for it in list(dropping_names):\n",
    "        for gene_id in name_id_map[it]:\n",
    "            # del id_len_map[gene_id]\n",
    "            del id_name_map[gene_id]\n",
    "        del name_id_map[it]\n",
    "        del name_len_map[it]\n",
    "\n",
    "    name_len_df = pd.DataFrame.from_dict(\n",
    "        {it: jt[0] for it, jt in name_len_map.items()},\n",
    "        orient=\"index\", columns=[\"length\"]\n",
    "    )\n",
    "\n",
    "    return id_name_map, name_len_df\n",
    "inm, ld = load_ann(ANNOTATIONS_FILE, mg)"
   ]
  },
  {
   "cell_type": "markdown",
   "id": "facial-fountain",
   "metadata": {},
   "source": [
    "Zatim učitavamo TCGA skup podataka mičući one s identifikacijskim kodovima za koje nije definirano preslikavanje u simbole (nisu metabolički geni ili imaju više simbola pridruženih identifikacijskom kodu). Read count stupac normaliziramo TPM metodom (https://www.rna-seqblog.com/rpkm-fpkm-and-tpm-clearly-explained/). Kako bismo mogli povezati izračunate vrijednosti s kliničkim podatcima kasnije, učitavamo i metapodatke koji imenu datoteke pridružuju identifikacijski kod  pacijenta."
   ]
  },
  {
   "cell_type": "code",
   "execution_count": 4,
   "id": "developing-arthur",
   "metadata": {},
   "outputs": [
    {
     "name": "stderr",
     "output_type": "stream",
     "text": [
      "<ipython-input-4-c5d268bdc3e0>:53: PerformanceWarning: DataFrame is highly fragmented.  This is usually the result of calling `frame.insert` many times, which has poor performance.  Consider joining all columns at once using pd.concat(axis=1) instead.  To get a de-fragmented frame, use `newframe = frame.copy()`\n",
      "  patients[patient_case_map[patient]] = df[\"tpm\"]\n"
     ]
    }
   ],
   "source": [
    "TCGA_FOLDER = \"../res/gdc_download_20211208_083143.349897\"\n",
    "\n",
    "\n",
    "def add_name_index(df: pd.DataFrame, id_name_map: dict) -> None:\n",
    "    df[\"gene_name\"] = df.apply(lambda x: id_name_map[x[\"gene_id\"]], axis=1)\n",
    "    df.set_index(\"gene_name\", inplace=True)\n",
    "\n",
    "\n",
    "def remove_nameless_ids(df: pd.DataFrame, id_name_map: dict) -> None:\n",
    "    df.drop(\n",
    "        df[[it not in id_name_map for it in df[\"gene_id\"]]].index, inplace=True\n",
    "    )\n",
    "\n",
    "\n",
    "\n",
    "def tpm_normalize(df: pd.DataFrame, lengths_df: pd.DataFrame):\n",
    "    rpk_df = df[\"raw_read_count\"] / lengths_df[\"length\"]\n",
    "    scaling_factor = rpk_df.count() / 1000000\n",
    "    df[\"tpm\"] = rpk_df / scaling_factor\n",
    "    df.drop(columns=\"raw_read_count\", inplace=True)   \n",
    "\n",
    "def load_meta_tcga(path):\n",
    "    with open(path, 'r') as inf:\n",
    "        return {it[\"file_id\"]: it[\"associated_entities\"][0][\"case_id\"]\n",
    "                for it in json.load(inf)}\n",
    "\n",
    "def load_tcga(\n",
    "        path: str,\n",
    "        id_name_map: dict,\n",
    "        patient_case_map: dict,\n",
    "        length_df: pd.DataFrame\n",
    ") -> pd.DataFrame:\n",
    "    patients = pd.DataFrame(index=length_df.index.copy())\n",
    "    # print(sorted(patients.index))\n",
    "    # print(\"# of patients\", len(patients.index))\n",
    "    for patient in os.listdir(path):\n",
    "        new_path = os.path.join(path, patient)\n",
    "        if not os.path.isdir(new_path):\n",
    "            continue\n",
    "        patient_fn = next(filter(\n",
    "            lambda x: x.endswith(\".gz\"),\n",
    "            os.listdir(new_path)\n",
    "        ))\n",
    "        patient_path = os.path.join(new_path, patient_fn)\n",
    "        df = pd.read_csv(\n",
    "            patient_path, sep='\\t', names=(\"gene_id\", \"raw_read_count\")\n",
    "        )\n",
    "        remove_nameless_ids(df, id_name_map)\n",
    "        df.dropna(axis=1, inplace=True)\n",
    "        add_name_index(df, id_name_map)\n",
    "        df.drop(columns=\"gene_id\", inplace=True)\n",
    "        tpm_normalize(df, length_df)\n",
    "        patients[patient_case_map[patient]] = df[\"tpm\"]\n",
    "    return patients\n",
    "\n",
    "mt = load_meta_tcga(\"../res/metadata.cart.2021-12-10.json\")\n",
    "tcga = load_tcga(TCGA_FOLDER, inm, mt, ld)"
   ]
  },
  {
   "cell_type": "markdown",
   "id": "collectible-technology",
   "metadata": {},
   "source": [
    "Na sličan način je učitan icgc skup podataka, ali budući da ni za jednog pacijenta nije zabilježeno više od 2600 relevantnih gena pa je bilo null vrijednosti u tablici (što ne radi s combat algoritmom), nije korištena kasnije.\n",
    "\n",
    "Postoji mogućnost micanja gena s nepoznatim vrijednostima, ali i to bi značajno smanjilo broj gena s kojima se raspolaže.\n",
    "\n",
    "Dodatno, svaki pacijent (donor_id) ima dva uzorka pa bi međusobno korelirani podatci (kojih nema u TCGA skupu podataka) mogli utjecati na daljnje izračune."
   ]
  },
  {
   "cell_type": "code",
   "execution_count": 5,
   "id": "hybrid-duration",
   "metadata": {},
   "outputs": [
    {
     "name": "stderr",
     "output_type": "stream",
     "text": [
      "<ipython-input-5-430592496c86>:37: PerformanceWarning: DataFrame is highly fragmented.  This is usually the result of calling `frame.insert` many times, which has poor performance.  Consider joining all columns at once using pd.concat(axis=1) instead.  To get a de-fragmented frame, use `newframe = frame.copy()`\n",
      "  patients[patient] = df[\"tpm\"]\n"
     ]
    }
   ],
   "source": [
    "\n",
    "\n",
    "def filter_by_gene_name(df: pd.DataFrame, keep_symbols: set):\n",
    "    df.drop(\n",
    "        df[[it not in keep_symbols for it in df[\"gene_name\"]]].index, inplace=True\n",
    "    )\n",
    "\n",
    "ICGC_FILE = \"../res/icgc-dataset-1638970984337/exp_seq.tsv.gz\"\n",
    "def load_icgc(path: str, id_name_map: dict, length_df: pd.DataFrame, keep_symbols: set) -> pd.DataFrame:\n",
    "    patients = pd.DataFrame(index=length_df.index.copy())\n",
    "    keep_columns = [\n",
    "        \"icgc_sample_id\",\n",
    "        \"gene_id\",\n",
    "        \"raw_read_count\"\n",
    "    ]\n",
    "    df = pd.read_csv(\n",
    "        path,\n",
    "        sep=\"\\t\",\n",
    "        #  index_col=[\"icgc_sample_id\", \"gene_id\"],\n",
    "        usecols=keep_columns\n",
    "    )\n",
    "    df.rename(columns={\"gene_id\": \"gene_name\"}, inplace=True)\n",
    "    # df.drop_duplicates(inplace=True, ignore_index=True)\n",
    "    keep_symbols = set(length_df.index)\n",
    "    filter_by_gene_name(df, keep_symbols)\n",
    "    df.dropna(axis=1, inplace=True)\n",
    "    dfs = [it for it in df.groupby([\"icgc_sample_id\"])]\n",
    "    # pd.set_option('display.max_columns', None)\n",
    "    for i, (patient, df) in enumerate(dfs):\n",
    "        # for gene_name, df2 in df.groupby([\"gene_name\"]):\n",
    "        #     print(df2.head())\n",
    "        # exit()\n",
    "        df.set_index(\"gene_name\", inplace=True)\n",
    "        if len(df.index) > 2600:\n",
    "            print(patient, len(df.index))\n",
    "        tpm_normalize(df, length_df)\n",
    "        if df.isnull().values.any():\n",
    "            print(\"patient\")\n",
    "        patients[patient] = df[\"tpm\"]\n",
    "        if patients.isnull().values.any():\n",
    "            continue\n",
    "            print(patient)\n",
    "            patients.dropna(axis=1, inplace=True)\n",
    "    # print(len(patients[patients.isnull()].index.tolist()))\n",
    "    return patients\n",
    "icgc = load_icgc(ICGC_FILE, inm, ld, mg)"
   ]
  },
  {
   "cell_type": "code",
   "execution_count": 6,
   "id": "extraordinary-insert",
   "metadata": {},
   "outputs": [
    {
     "name": "stderr",
     "output_type": "stream",
     "text": [
      "d:\\programfiles\\python\\python_3_8_8\\lib\\site-packages\\pandas\\core\\frame.py:4906: SettingWithCopyWarning: \n",
      "A value is trying to be set on a copy of a slice from a DataFrame\n",
      "\n",
      "See the caveats in the documentation: https://pandas.pydata.org/pandas-docs/stable/user_guide/indexing.html#returning-a-view-versus-a-copy\n",
      "  return super().drop(\n"
     ]
    },
    {
     "data": {
      "image/png": "[encoded data removed]",
      "text/plain": [
       "<Figure size 432x288 with 1 Axes>"
      ]
     },
     "metadata": {
      "needs_background": "light"
     },
     "output_type": "display_data"
    }
   ],
   "source": [
    "\n",
    "TCGA_CLINICAL = \"../res/clinical.cart.2021-12-08/clinical.tsv\"\n",
    "RELEVANT_GENES = \"../res/mol212639-sup-0006-tables1-s11.xlsx\"\n",
    "\n",
    "def load_clinical(path):\n",
    "    return pd.read_csv(\n",
    "        path,\n",
    "        sep=\"\\t\",\n",
    "        #  index_col=[\"icgc_sample_id\", \"gene_id\"],\n",
    "        # usecols=keep_columns\n",
    "    )\n",
    "\n",
    "def mad(df: pd.DataFrame, threshold: float) -> None:\n",
    "    df.drop(df.loc[df.apply(\n",
    "        median_abs_deviation, axis=1, raw=True\n",
    "    ) <= threshold].index, inplace=True)\n",
    "\n",
    "\n",
    "\n",
    "def relevant_genes(path: str):\n",
    "    return set(\n",
    "        pd.read_excel(path, sheet_name=\"Table S1\", header=1)[\"Gene Symbol\"]\n",
    "    )\n",
    "\n",
    "# mad(tcga, 0.5)\n",
    "# cox(tcga, 1.5)\n",
    "\n",
    "# print(tcga.head())\n",
    "# icgc.dropna(axis=1, inplace=True)\n",
    "# print(icgc.iloc[:20])\n",
    "# total = pd.concat([tcga, icgc], join=\"inner\", axis=1)\n",
    "# batch = [0] * len(tcga.columns) + [1] * len(icgc.columns)\n",
    "# data_corrected = pycombat(total, batch)\n",
    "\n",
    "load_clinical(TCGA_CLINICAL)\n",
    "\n",
    "# budući da ne koristim icgc dataset, odlučio sam\n",
    "# nastaviti s relevantnim genima dalje kako bih dobio relevantne\n",
    "# rezultate\n",
    "rg = relevant_genes(RELEVANT_GENES)\n",
    "X = tcga[tcga.index.isin(rg)]\n",
    "# X.drop((np.abs(stats.zscore(X)) < 3).all(axis=1), inplace=True)\n",
    "# print(.shape)\n",
    "#print((np.abs(stats.zscore(np.sqrt(np.square(X).sum(axis=0)))) < 3))\n",
    "X.drop(X.loc[(np.abs(stats.zscore(np.sqrt(np.square(X).sum(axis=1)))) > 3)].index, inplace=True)\n",
    "# print(len(X.to_numpy().shape))\n",
    "# print(X)\n",
    "kmeans = KMeans(3, random_state=42).fit(X)\n",
    "results = pandas.DataFrame(data=kmeans.labels_, columns=[\"cluster\"], index=X.index).groupby(\"cluster\")\n",
    "\n",
    "reduced = PCA(2, random_state=42).fit_transform(X)\n",
    "# print(\"r\", reduced)\n",
    "plt.figure()\n",
    "for name, result in results:\n",
    "    # print(name, X.index)\n",
    "    # print(reduced[X.index.isin(result.index)])\n",
    "    plt.scatter(*reduced[X.index.isin(result.index)].T)\n",
    "plt.show()\n",
    "\n",
    "classificator = SVC().fit(X, kmeans.labels_)"
   ]
  },
  {
   "cell_type": "code",
   "execution_count": 9,
   "id": "alternate-chicken",
   "metadata": {},
   "outputs": [
    {
     "data": {
      "image/png": "[encoded data removed]",
      "text/plain": [
       "<Figure size 432x288 with 1 Axes>"
      ]
     },
     "metadata": {
      "needs_background": "light"
     },
     "output_type": "display_data"
    }
   ],
   "source": [
    "kmeans = AgglomerativeClustering(3).fit(X)\n",
    "results = pandas.DataFrame(data=kmeans.labels_, columns=[\"cluster\"], index=X.index).groupby(\"cluster\")\n",
    "\n",
    "reduced = PCA(2, random_state=42).fit_transform(X)\n",
    "# print(\"r\", reduced)\n",
    "plt.figure()\n",
    "for name, result in results:\n",
    "    # print(name, X.index)\n",
    "    # print(reduced[X.index.isin(result.index)])\n",
    "    plt.scatter(*reduced[X.index.isin(result.index)].T)\n",
    "plt.show()"
   ]
  },
  {
   "cell_type": "markdown",
   "id": "nutritional-invitation",
   "metadata": {},
   "source": [
    "Izgleda da ima outliera koji poremete odabir grupa. Zato klasifikator ne radi. Njih se može maknuti trimmanjem onih koji odskaču previše, ali svejedno klasifikator nije najbolji."
   ]
  },
  {
   "cell_type": "markdown",
   "id": "female-brooks",
   "metadata": {
    "pycharm": {
     "name": "#%%\n"
    }
   },
   "source": [
    "https://www.cancer.gov/about-nci/organization/ccg/research/structural-genomics/tcga/history/policies#:~:text=TCGA%20Ethics%20%26%20Policies%20TCGA%20was%20among%20the,providing%20access%20to%20data%20from%20human%20tissue%20specimens.\n"
   ]
  }
 ],
 "metadata": {
  "kernelspec": {
   "display_name": "Python 3",
   "language": "python",
   "name": "python3"
  },
  "language_info": {
   "codemirror_mode": {
    "name": "ipython",
    "version": 3
   },
   "file_extension": ".py",
   "mimetype": "text/x-python",
   "name": "python",
   "nbconvert_exporter": "python",
   "pygments_lexer": "ipython3",
   "version": "3.8.8"
  }
 },
 "nbformat": 4,
 "nbformat_minor": 5
}
